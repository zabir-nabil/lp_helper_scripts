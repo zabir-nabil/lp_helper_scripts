{
 "cells": [
  {
   "cell_type": "code",
   "execution_count": 11,
   "metadata": {},
   "outputs": [],
   "source": [
    "import imagehash\n",
    "import matplotlib.pyplot as plt\n",
    "import cv2\n",
    "from skimage import measure"
   ]
  },
  {
   "cell_type": "code",
   "execution_count": 49,
   "metadata": {},
   "outputs": [],
   "source": [
    "import glob\n",
    "clean = glob.glob('../gan_denoising/trainA/*.jpg') + glob.glob('../gan_denoising/trainA2/*.jpg')\n",
    "images = glob.glob(\"hash/*.jpg\")"
   ]
  },
  {
   "cell_type": "code",
   "execution_count": 37,
   "metadata": {},
   "outputs": [],
   "source": [
    "from PIL import Image\n",
    "import imagehash\n",
    "\n",
    "hash_ls = []\n",
    "for image in images:\n",
    "    hash_ = imagehash.average_hash(Image.open(image).convert('LA'))\n",
    "    hash_ls.append(hash_)"
   ]
  },
  {
   "cell_type": "code",
   "execution_count": 50,
   "metadata": {},
   "outputs": [],
   "source": [
    "images = glob.glob('../dump/semiclean1/*.jpg')"
   ]
  },
  {
   "cell_type": "code",
   "execution_count": 51,
   "metadata": {},
   "outputs": [
    {
     "data": {
      "text/plain": [
       "5017"
      ]
     },
     "execution_count": 51,
     "metadata": {},
     "output_type": "execute_result"
    }
   ],
   "source": [
    "len(clean)"
   ]
  },
  {
   "cell_type": "code",
   "execution_count": 52,
   "metadata": {},
   "outputs": [
    {
     "data": {
      "text/plain": [
       "5997"
      ]
     },
     "execution_count": 52,
     "metadata": {},
     "output_type": "execute_result"
    }
   ],
   "source": [
    "len(images)"
   ]
  },
  {
   "cell_type": "code",
   "execution_count": 36,
   "metadata": {},
   "outputs": [
    {
     "data": {
      "text/plain": [
       "['../gan_denoising/trainA\\\\2611.jpg',\n",
       " '../gan_denoising/trainA\\\\clean1_17979_0.jpg',\n",
       " '../gan_denoising/trainA\\\\clean1_17048_0.jpg',\n",
       " '../gan_denoising/trainA\\\\vid2_9183_0.jpg',\n",
       " '../gan_denoising/trainA\\\\clean1_19486_0.jpg']"
      ]
     },
     "execution_count": 36,
     "metadata": {},
     "output_type": "execute_result"
    }
   ],
   "source": [
    "import random\n",
    "random.sample(clean,5)"
   ]
  },
  {
   "cell_type": "code",
   "execution_count": 45,
   "metadata": {},
   "outputs": [
    {
     "data": {
      "text/plain": [
       "'../dump/semiclean1\\\\semiclean1_1_0.jpg'"
      ]
     },
     "execution_count": 45,
     "metadata": {},
     "output_type": "execute_result"
    }
   ],
   "source": [
    "images[0]"
   ]
  },
  {
   "cell_type": "code",
   "execution_count": 46,
   "metadata": {},
   "outputs": [
    {
     "data": {
      "text/plain": [
       "array([[ 9, 10, 13, ..., 10, 10, 11],\n",
       "       [ 9, 10, 10, ..., 11, 12, 13],\n",
       "       [10,  9,  7, ..., 13, 15, 16],\n",
       "       ...,\n",
       "       [38, 38, 38, ..., 32, 33, 33],\n",
       "       [37, 38, 38, ..., 41, 38, 36],\n",
       "       [37, 38, 39, ..., 46, 41, 38]], dtype=uint8)"
      ]
     },
     "execution_count": 46,
     "metadata": {},
     "output_type": "execute_result"
    }
   ],
   "source": [
    "cv2.resize(cv2.imread(images[0], 0), (192, 98))"
   ]
  },
  {
   "cell_type": "code",
   "execution_count": 53,
   "metadata": {},
   "outputs": [
    {
     "data": {
      "application/vnd.jupyter.widget-view+json": {
       "model_id": "e4835f4a0497458f806a700cce5d647a",
       "version_major": 2,
       "version_minor": 0
      },
      "text/plain": [
       "HBox(children=(IntProgress(value=0, max=5997), HTML(value='')))"
      ]
     },
     "metadata": {},
     "output_type": "display_data"
    },
    {
     "name": "stdout",
     "output_type": "stream",
     "text": [
      "\n",
      "38.708640813827515\n"
     ]
    }
   ],
   "source": [
    "import time\n",
    "from pathlib import Path\n",
    "from tqdm import tqdm_notebook as tqdm\n",
    "blur_path = \"../dump/semiclean1/blur\"\n",
    "clean_path = \"../dump/semiclean1/clean\"\n",
    "\n",
    "t1 = time.time()\n",
    "\n",
    "for i in tqdm(range(len(images))):\n",
    "    clean_sub = random.sample(clean, 500)\n",
    "    for j in range(len(clean_sub)):\n",
    "        try:\n",
    "            imga = cv2.resize(cv2.imread(clean_sub[j], 0), (192, 98))\n",
    "            #plt.imshow(imga, cmap='gray')\n",
    "            #plt.show()\n",
    "            imgb = cv2.resize(cv2.imread(images[i], 0), (192, 98))\n",
    "            #plt.imshow(imgb, cmap='gray')\n",
    "            #plt.show()\n",
    "            #print(f\"diff: {hash_ls[i] - hash_ls[j]}\")\n",
    "            s = measure.compare_ssim(imga, imgb)\n",
    "            #print(s)\n",
    "            if s < 0.3:\n",
    "                Path(images[i]).rename(clean_path + \"/\" + images[i].split('\\\\')[-1] )\n",
    "                break\n",
    "            else:\n",
    "                Path(images[i]).rename(blur_path + \"/\" + images[i].split('\\\\')[-1] )\n",
    "        except:\n",
    "            pass\n",
    "t2 = time.time()\n",
    "print(t2-t1)"
   ]
  },
  {
   "cell_type": "code",
   "execution_count": 31,
   "metadata": {},
   "outputs": [
    {
     "name": "stdout",
     "output_type": "stream",
     "text": [
      "hash\\semiclean1_448_0.jpg hash\\semiclean1_448_0.jpg\n",
      "0.0\n",
      "hash\\semiclean1_448_0.jpg hash\\semiclean1_450_0.jpg\n",
      "0.33819721008924963\n",
      "hash\\semiclean1_448_0.jpg hash\\clean1_17122_0.jpg\n",
      "1.2111862575210226\n",
      "hash\\semiclean1_448_0.jpg hash\\clean1_9_0.jpg\n",
      "1.3949270293075513\n",
      "hash\\semiclean1_448_0.jpg hash\\clean1_17094_0.jpg\n",
      "1.2548837119826757\n",
      "hash\\semiclean1_448_0.jpg hash\\38.jpg\n",
      "0.8141931013038277\n",
      "hash\\semiclean1_448_0.jpg hash\\42.jpg\n",
      "0.9878528905339727\n",
      "hash\\semiclean1_450_0.jpg hash\\semiclean1_450_0.jpg\n",
      "0.0\n",
      "hash\\semiclean1_450_0.jpg hash\\clean1_17122_0.jpg\n",
      "1.2055354021784985\n",
      "hash\\semiclean1_450_0.jpg hash\\clean1_9_0.jpg\n",
      "1.3582143524199533\n",
      "hash\\semiclean1_450_0.jpg hash\\clean1_17094_0.jpg\n",
      "1.2214418597517345\n",
      "hash\\semiclean1_450_0.jpg hash\\38.jpg\n",
      "0.8651574827341765\n",
      "hash\\semiclean1_450_0.jpg hash\\42.jpg\n",
      "1.0126858464828572\n",
      "hash\\clean1_17122_0.jpg hash\\clean1_17122_0.jpg\n",
      "1.0536712127723508e-09\n",
      "hash\\clean1_17122_0.jpg hash\\clean1_9_0.jpg\n",
      "0.8818814075353567\n",
      "hash\\clean1_17122_0.jpg hash\\clean1_17094_0.jpg\n",
      "1.152151703965379\n",
      "hash\\clean1_17122_0.jpg hash\\38.jpg\n",
      "1.1662874009727942\n",
      "hash\\clean1_17122_0.jpg hash\\42.jpg\n",
      "1.123924131447954\n",
      "hash\\clean1_9_0.jpg hash\\clean1_9_0.jpg\n",
      "0.0\n",
      "hash\\clean1_9_0.jpg hash\\clean1_17094_0.jpg\n",
      "1.1647783488328425\n",
      "hash\\clean1_9_0.jpg hash\\38.jpg\n",
      "1.4234025317548726\n",
      "hash\\clean1_9_0.jpg hash\\42.jpg\n",
      "1.3793909105597035\n",
      "hash\\clean1_17094_0.jpg hash\\clean1_17094_0.jpg\n",
      "0.0\n",
      "hash\\clean1_17094_0.jpg hash\\38.jpg\n",
      "1.2399085177671085\n",
      "hash\\clean1_17094_0.jpg hash\\42.jpg\n",
      "1.2178864701002252\n",
      "hash\\38.jpg hash\\38.jpg\n",
      "0.0\n",
      "hash\\38.jpg hash\\42.jpg\n",
      "0.4787613044471464\n",
      "hash\\42.jpg hash\\42.jpg\n",
      "1.0536712127723508e-09\n"
     ]
    }
   ],
   "source": [
    "import cv2\n",
    "\n",
    "class CompareImage(object):\n",
    "\n",
    "    def __init__(self, image_1_path, image_2_path):\n",
    "        self.minimum_commutative_image_diff = 1\n",
    "        self.image_1_path = image_1_path\n",
    "        self.image_2_path = image_2_path\n",
    "\n",
    "    def compare_image(self):\n",
    "        image_1 = cv2.imread(self.image_1_path, 0)\n",
    "        image_2 = cv2.imread(self.image_2_path, 0)\n",
    "        commutative_image_diff = self.get_image_difference(image_1, image_2)\n",
    "\n",
    "        #if commutative_image_diff < self.minimum_commutative_image_diff:\n",
    "            # print \"Matched\"\n",
    "        return commutative_image_diff\n",
    "        #return 10000 //2\n",
    "\n",
    "    @staticmethod\n",
    "    def get_image_difference(image_1, image_2):\n",
    "        first_image_hist = cv2.calcHist([image_1], [0], None, [256], [0, 256])\n",
    "        second_image_hist = cv2.calcHist([image_2], [0], None, [256], [0, 256])\n",
    "\n",
    "        img_hist_diff = cv2.compareHist(first_image_hist, second_image_hist, cv2.HISTCMP_BHATTACHARYYA)\n",
    "        img_template_probability_match = cv2.matchTemplate(first_image_hist, second_image_hist, cv2.TM_CCOEFF_NORMED)[0][0]\n",
    "        img_template_diff = 1 - img_template_probability_match\n",
    "\n",
    "        # taking only 10% of histogram diff, since it's less accurate than template method\n",
    "        commutative_image_diff = (img_hist_diff / 10) + img_template_diff\n",
    "        return commutative_image_diff\n",
    "\n",
    "\n",
    "for i in range(len(images)):\n",
    "    for j in range(i, len(images)):\n",
    "        print(images[i], images[j])\n",
    "        compare_image = CompareImage(images[i], images[j])\n",
    "        image_difference = compare_image.compare_image()\n",
    "        print(image_difference)"
   ]
  },
  {
   "cell_type": "code",
   "execution_count": 28,
   "metadata": {},
   "outputs": [
    {
     "data": {
      "text/plain": [
       "['hash\\\\semiclean1_448_0.jpg',\n",
       " 'hash\\\\semiclean1_450_0.jpg',\n",
       " 'hash\\\\clean1_17122_0.jpg',\n",
       " 'hash\\\\clean1_9_0.jpg',\n",
       " 'hash\\\\clean1_17094_0.jpg',\n",
       " 'hash\\\\38.jpg',\n",
       " 'hash\\\\42.jpg']"
      ]
     },
     "execution_count": 28,
     "metadata": {},
     "output_type": "execute_result"
    }
   ],
   "source": [
    "images"
   ]
  },
  {
   "cell_type": "code",
   "execution_count": null,
   "metadata": {},
   "outputs": [],
   "source": []
  }
 ],
 "metadata": {
  "kernelspec": {
   "display_name": "Python 3",
   "language": "python",
   "name": "python3"
  },
  "language_info": {
   "codemirror_mode": {
    "name": "ipython",
    "version": 3
   },
   "file_extension": ".py",
   "mimetype": "text/x-python",
   "name": "python",
   "nbconvert_exporter": "python",
   "pygments_lexer": "ipython3",
   "version": "3.7.4"
  }
 },
 "nbformat": 4,
 "nbformat_minor": 2
}
